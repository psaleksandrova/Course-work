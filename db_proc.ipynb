{
 "cells": [
  {
   "cell_type": "code",
   "execution_count": 13,
   "metadata": {},
   "outputs": [],
   "source": [
    "import sqlite3\n",
    "import math"
   ]
  },
  {
   "cell_type": "code",
   "execution_count": 14,
   "metadata": {},
   "outputs": [],
   "source": [
    "def freq_rel(freq, l):\n",
    "    return freq / l * 100"
   ]
  },
  {
   "cell_type": "code",
   "execution_count": 15,
   "metadata": {},
   "outputs": [],
   "source": [
    "def count_ll(len1, len2, freq1, freq2):\n",
    "    E1 = len1 * (freq1 + freq2) / (len1 + len2)\n",
    "    E2 = len2 * (freq1 + freq2) / (len1 + len2)\n",
    "    \n",
    "    if freq1 == 0:\n",
    "        G2 = 2 * (freq2 * math.log(freq2 / E2))\n",
    "    elif freq2 == 0:\n",
    "        G2 = 2 * (freq1 * math.log(freq1 / E1))\n",
    "    else:\n",
    "        G2 = 2 * ((freq1 * math.log(freq1 / E1)) + (freq2 * math.log(freq2 / E2)))\n",
    "    return G2"
   ]
  },
  {
   "cell_type": "code",
   "execution_count": 16,
   "metadata": {},
   "outputs": [],
   "source": [
    "def proc_ll(conn, name):\n",
    "    len_first = conn.execute('select sum(freq_first) from ' + name).fetchone()[0]\n",
    "    len_other = conn.execute('select sum(freq_other) from ' + name).fetchone()[0]\n",
    "    \n",
    "    lemmas = conn.execute('select lemma from ' + name).fetchall()\n",
    "    freq_first = conn.execute('select freq_first from ' + name).fetchall()\n",
    "    freq_other = conn.execute('select freq_other from ' + name).fetchall()\n",
    "    freq_first_rel = []\n",
    "    freq_other_rel = []\n",
    "    G2 = []\n",
    "    \n",
    "    for i in range(len(freq_first)):\n",
    "        freq_first_rel.append(freq_rel(freq_first[i][0], len_first))\n",
    "        freq_other_rel.append(freq_rel(freq_other[i][0], len_other))\n",
    "                              \n",
    "        if freq_first_rel[i] >= freq_other_rel[i]:\n",
    "            cf = 1\n",
    "        else:\n",
    "            cf = -1\n",
    "        G2.append(cf * count_ll(len_first, len_other, freq_first[i][0], freq_other[i][0]))\n",
    "        \n",
    "    conn.execute('create table if not exists adjectives_ll(lemma text, freq_first int,' + \n",
    "                 ' freq_first_rel float, freq_other int, freq_other_rel float, G2 float)')\n",
    "    conn.execute('create table if not exists verbs_ll(lemma text, freq_first int,' +\n",
    "                 ' freq_first_rel float, freq_other int, freq_other_rel float, G2 float)')\n",
    "    \n",
    "    for i in range(len(freq_first)):\n",
    "        if freq_first[i][0] != 0 and freq_first[i][0] + freq_other[i][0] >= 85:\n",
    "            conn.execute('insert into ' + name + '_ll(lemma, freq_first, freq_first_rel, ' + \n",
    "                         'freq_other, freq_other_rel, G2) values (?, ?, ?, ?, ?, ?)',\n",
    "                        (lemmas[i][0], freq_first[i][0], freq_first_rel[i], freq_other[i][0], freq_other_rel[i], G2[i]))\n",
    "    \n",
    "    conn.commit()\n",
    "    return len_first, len_other, lemmas, freq_first, freq_other, freq_first_rel, freq_other_rel"
   ]
  },
  {
   "cell_type": "code",
   "execution_count": 17,
   "metadata": {},
   "outputs": [],
   "source": [
    "conn = sqlite3.connect('freq.db')\n",
    "try:\n",
    "    (len_first_a, len_other_a, lemmas_a, freq_first_a, freq_other_a, freq_first_rel_a,\n",
    "     freq_other_rel_a) = proc_ll(conn, 'adjectives')\n",
    "    (len_first_v, len_other_v, lemmas_v, freq_first_v, freq_other_v, freq_first_rel_v,\n",
    "     freq_other_rel_v) = proc_ll(conn, 'verbs')\n",
    "finally:\n",
    "    conn.close()"
   ]
  },
  {
   "cell_type": "code",
   "execution_count": 18,
   "metadata": {},
   "outputs": [],
   "source": [
    "def count_pmi(len_first, len_other, freq_first, freq_other, freq_first_rel):\n",
    "    p_A = len_first / (len_first + len_other)\n",
    "    p_B = (freq_first + freq_other) / (len_first + len_other)\n",
    "    p_AB = freq_first_rel / 100\n",
    "    pmi = math.log(p_AB / (p_A * p_B))\n",
    "    return pmi"
   ]
  },
  {
   "cell_type": "code",
   "execution_count": 19,
   "metadata": {},
   "outputs": [],
   "source": [
    "def proc_pmi(conn, name, lemmas, len_first, len_other, freq_first, freq_other, freq_first_rel, freq_other_rel):\n",
    "    conn.execute('create table if not exists ' + name +'_pmi(lemma text, freq_first int,' + \n",
    "                 ' freq_first_rel float, freq_other int, freq_other_rel float, PMI float)')\n",
    "    for i in range(len(freq_first)):\n",
    "        if freq_first[i][0] != 0 and freq_first[i][0] + freq_other[i][0] >= 85:\n",
    "            conn.execute('insert into ' + name + '_pmi(lemma, freq_first, freq_first_rel, ' + \n",
    "                         'freq_other, freq_other_rel, PMI) values (?, ?, ?, ?, ?, ?)',\n",
    "                        (lemmas[i][0], freq_first[i][0], freq_first_rel[i], freq_other[i][0],\n",
    "                         freq_other_rel[i], count_pmi(len_first, len_other, freq_first[i][0], \n",
    "                                                      freq_other[i][0], freq_first_rel[i])))\n",
    "    conn.commit()"
   ]
  },
  {
   "cell_type": "code",
   "execution_count": 20,
   "metadata": {},
   "outputs": [],
   "source": [
    "conn = sqlite3.connect('freq.db')\n",
    "try:\n",
    "    proc_pmi(conn, 'adjectives', lemmas_a, len_first_a, len_other_a, freq_first_a, freq_other_a,\n",
    "             freq_first_rel_a, freq_other_rel_a)\n",
    "    proc_pmi(conn, 'verbs', lemmas_v, len_first_v, len_other_v, freq_first_v, freq_other_v,\n",
    "             freq_first_rel_v, freq_other_rel_v)\n",
    "finally:\n",
    "    conn.close()"
   ]
  },
  {
   "cell_type": "code",
   "execution_count": 21,
   "metadata": {},
   "outputs": [],
   "source": [
    "def weirdness(conn, name, lemmas, freq_first_rel, freq_other_rel, len_other):\n",
    "    conn.execute('create table if not exists ' + name +'_weirdness(lemma text, w float)')\n",
    "    for i in range(len(freq_first_rel)):\n",
    "        if freq_other_rel[i] != 0:\n",
    "            w = freq_first_rel[i] / freq_other_rel[i]\n",
    "        else:\n",
    "            w = freq_first_rel[i] * len_other\n",
    "            \n",
    "        conn.execute('insert into ' + name + '_weirdness(lemma, w) values (?, ?)',\n",
    "                    (lemmas[i][0], w))\n",
    "    conn.commit()"
   ]
  },
  {
   "cell_type": "code",
   "execution_count": 22,
   "metadata": {},
   "outputs": [],
   "source": [
    "conn = sqlite3.connect('freq.db')\n",
    "try:\n",
    "    weirdness(conn, 'adjectives', lemmas_a, freq_first_rel_a, freq_other_rel_a, len_other_a)\n",
    "    weirdness(conn, 'verbs', lemmas_v, freq_first_rel_v, freq_other_rel_v, len_other_v)\n",
    "finally:\n",
    "    conn.close()"
   ]
  },
  {
   "cell_type": "code",
   "execution_count": null,
   "metadata": {},
   "outputs": [],
   "source": []
  }
 ],
 "metadata": {
  "kernelspec": {
   "display_name": "Python 3",
   "language": "python",
   "name": "python3"
  },
  "language_info": {
   "codemirror_mode": {
    "name": "ipython",
    "version": 3
   },
   "file_extension": ".py",
   "mimetype": "text/x-python",
   "name": "python",
   "nbconvert_exporter": "python",
   "pygments_lexer": "ipython3",
   "version": "3.6.5"
  }
 },
 "nbformat": 4,
 "nbformat_minor": 2
}
